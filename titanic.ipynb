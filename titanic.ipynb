{
  "nbformat": 4,
  "nbformat_minor": 0,
  "metadata": {
    "colab": {
      "provenance": [],
      "authorship_tag": "ABX9TyMgwiJIm8U/vL7gV9C4ICnp",
      "include_colab_link": true
    },
    "kernelspec": {
      "name": "python3",
      "display_name": "Python 3"
    },
    "language_info": {
      "name": "python"
    }
  },
  "cells": [
    {
      "cell_type": "markdown",
      "metadata": {
        "id": "view-in-github",
        "colab_type": "text"
      },
      "source": [
        "<a href=\"https://colab.research.google.com/github/MrZekron/Aplicacion1/blob/master/titanic.ipynb\" target=\"_parent\"><img src=\"https://colab.research.google.com/assets/colab-badge.svg\" alt=\"Open In Colab\"/></a>"
      ]
    },
    {
      "cell_type": "markdown",
      "source": [
        "# Caso titanic - Moises Cid\n",
        "¿Que factor influyo en la supervivencia de los pasajeros?"
      ],
      "metadata": {
        "id": "gQUh9lPJtUeL"
      }
    },
    {
      "cell_type": "markdown",
      "source": [
        "*Género:\n",
        "\n",
        "Las mujeres tenían una tasa de supervivencia significativamente mayor que los hombres.\n",
        "\n",
        "Esto refleja la política de evacuación \"mujeres y niños primero\".\n",
        "\n",
        "Clase del Pasajero:\n",
        "\n",
        "Los pasajeros de primera clase tenían una mayor tasa de supervivencia en comparación con los de segunda y tercera clase.\n",
        "\n",
        "Esto sugiere que las personas con mejores recursos tenían más acceso a los botes salvavidas.\n",
        "\n",
        "Edad:\n",
        "\n",
        "Los niños tenían una tasa de supervivencia mayor que los adultos, especialmente en primera y segunda clase.\n",
        "\n",
        "Esto refuerza la idea de que los niños fueron priorizados en la evacuación.\n",
        "\n",
        "Tamaño del Grupo (Familiares a Bordo):\n",
        "\n",
        "Los pasajeros que viajaban con familiares tenían una tasa de supervivencia mayor en comparación con los que viajaban solos.\n",
        "\n",
        "Esto puede deberse a que los grupos familiares colaboraban en la evacuación.\n",
        "\n",
        "Tarifa del Boleto:\n",
        "\n",
        "Se encontró que los pasajeros que pagaron tarifas más altas tenían más posibilidades de sobrevivir, lo que está correlacionado con viajar en clases más altas.\n",
        "\n",
        "Conclusión:\n",
        "Los factores más determinantes en la supervivencia fueron el género (las mujeres tenían más posibilidades de sobrevivir), la clase del pasajero (primera clase tenía ventaja), la edad (los niños tenían más posibilidades de ser rescatados), y viajar acompañado (los que iban en familia sobrevivieron más que los que estaban solos).\n",
        "\n"
      ],
      "metadata": {
        "id": "GPu6vhRHITpj"
      }
    },
    {
      "cell_type": "code",
      "execution_count": 2,
      "metadata": {
        "id": "XtWD1gU5GOi6"
      },
      "outputs": [],
      "source": [
        "import pandas as pd\n",
        "import matplotlib.pyplot as plt\n",
        "import seaborn as sns"
      ]
    },
    {
      "cell_type": "code",
      "source": [
        "# Cargar el dataset\n",
        "file_path = \"Titanic01.csv\"\n",
        "df = pd.read_csv(file_path)"
      ],
      "metadata": {
        "id": "y6XV5QaDHJlB"
      },
      "execution_count": 3,
      "outputs": []
    },
    {
      "cell_type": "markdown",
      "source": [
        "PassengerId: Identificador único del pasajero.\n",
        "\n",
        "Survived: Indica si sobrevivió (1) o no (0).\n",
        "\n",
        "Pclass: Clase del pasajero (1, 2 o 3).\n",
        "\n",
        "Name: Nombre del pasajero.\n",
        "\n",
        "Sex: Género (male o female).\n",
        "\n",
        "Age: Edad del pasajero.\n",
        "\n",
        "SibSp: Número de hermanos/as o cónyuges a bordo.\n",
        "\n",
        "Parch: Número de padres/madres o hijos/as a bordo.\n",
        "\n",
        "Ticket: Número de boleto.\n",
        "\n",
        "Fare: Tarifa pagada.\n",
        "\n",
        "Cabin: Número de cabina (la mayoría de los valores son nulos).\n",
        "\n",
        "Embarked: Puerto de embarque (C = Cherbourg, Q = Queenstown, S = Southampton).\n"
      ],
      "metadata": {
        "id": "UAmHSQ53314B"
      }
    },
    {
      "cell_type": "markdown",
      "source": [
        "Este conjunto de variables ofrece un panorama diverso de los pasajeros del Titanic, abarcando aspectos demográficos, socioeconómicos, familiares y relacionados con el viaje. La variable Survived es el foco principal de análisis, ya que se buscará identificar patrones y relaciones entre las demás variables que puedan explicar la supervivencia o la falta de ella.\n",
        "\n",
        "La presencia de valores nulos en variables como Age y Cabin requerirá estrategias de limpieza y preprocesamiento de datos antes de realizar análisis más profundos. La combinación de variables cualitativas (como Sex y Embarked) y cuantitativas (como Age y Fare) permitirá un análisis multifacético de los factores que influyeron en la supervivencia de los pasajeros del Titanic."
      ],
      "metadata": {
        "id": "je79y-3dEs46"
      }
    },
    {
      "cell_type": "code",
      "source": [
        "# Mostrar información general\n",
        "df.info()\n",
        "\n",
        "# Mostrar las primeras filas del dataset\n",
        "df.head()"
      ],
      "metadata": {
        "colab": {
          "base_uri": "https://localhost:8080/",
          "height": 833
        },
        "id": "u8bL05WCHR7K",
        "outputId": "47a6d88f-5b65-4260-eb2b-9a9fcbcbc54f"
      },
      "execution_count": null,
      "outputs": [
        {
          "output_type": "stream",
          "name": "stdout",
          "text": [
            "<class 'pandas.core.frame.DataFrame'>\n",
            "RangeIndex: 891 entries, 0 to 890\n",
            "Data columns (total 12 columns):\n",
            " #   Column       Non-Null Count  Dtype  \n",
            "---  ------       --------------  -----  \n",
            " 0   PassengerId  891 non-null    int64  \n",
            " 1   Survived     891 non-null    int64  \n",
            " 2   Pclass       891 non-null    int64  \n",
            " 3   Name         891 non-null    object \n",
            " 4   Sex          891 non-null    object \n",
            " 5   Age          714 non-null    float64\n",
            " 6   SibSp        891 non-null    int64  \n",
            " 7   Parch        891 non-null    int64  \n",
            " 8   Ticket       891 non-null    object \n",
            " 9   Fare         891 non-null    float64\n",
            " 10  Cabin        204 non-null    object \n",
            " 11  Embarked     889 non-null    object \n",
            "dtypes: float64(2), int64(5), object(5)\n",
            "memory usage: 83.7+ KB\n"
          ]
        },
        {
          "output_type": "execute_result",
          "data": {
            "text/plain": [
              "   PassengerId  Survived  Pclass  \\\n",
              "0            1         0       3   \n",
              "1            2         1       1   \n",
              "2            3         1       3   \n",
              "3            4         1       1   \n",
              "4            5         0       3   \n",
              "\n",
              "                                                Name     Sex   Age  SibSp  \\\n",
              "0                            Braund, Mr. Owen Harris    male  22.0      1   \n",
              "1  Cumings, Mrs. John Bradley (Florence Briggs Th...  female  38.0      1   \n",
              "2                             Heikkinen, Miss. Laina  female  26.0      0   \n",
              "3       Futrelle, Mrs. Jacques Heath (Lily May Peel)  female  35.0      1   \n",
              "4                           Allen, Mr. William Henry    male  35.0      0   \n",
              "\n",
              "   Parch            Ticket     Fare Cabin Embarked  \n",
              "0      0         A/5 21171   7.2500   NaN        S  \n",
              "1      0          PC 17599  71.2833   C85        C  \n",
              "2      0  STON/O2. 3101282   7.9250   NaN        S  \n",
              "3      0            113803  53.1000  C123        S  \n",
              "4      0            373450   8.0500   NaN        S  "
            ],
            "text/html": [
              "\n",
              "  <div id=\"df-35c1600a-f45b-43a8-98e9-f858fbbfaed0\" class=\"colab-df-container\">\n",
              "    <div>\n",
              "<style scoped>\n",
              "    .dataframe tbody tr th:only-of-type {\n",
              "        vertical-align: middle;\n",
              "    }\n",
              "\n",
              "    .dataframe tbody tr th {\n",
              "        vertical-align: top;\n",
              "    }\n",
              "\n",
              "    .dataframe thead th {\n",
              "        text-align: right;\n",
              "    }\n",
              "</style>\n",
              "<table border=\"1\" class=\"dataframe\">\n",
              "  <thead>\n",
              "    <tr style=\"text-align: right;\">\n",
              "      <th></th>\n",
              "      <th>PassengerId</th>\n",
              "      <th>Survived</th>\n",
              "      <th>Pclass</th>\n",
              "      <th>Name</th>\n",
              "      <th>Sex</th>\n",
              "      <th>Age</th>\n",
              "      <th>SibSp</th>\n",
              "      <th>Parch</th>\n",
              "      <th>Ticket</th>\n",
              "      <th>Fare</th>\n",
              "      <th>Cabin</th>\n",
              "      <th>Embarked</th>\n",
              "    </tr>\n",
              "  </thead>\n",
              "  <tbody>\n",
              "    <tr>\n",
              "      <th>0</th>\n",
              "      <td>1</td>\n",
              "      <td>0</td>\n",
              "      <td>3</td>\n",
              "      <td>Braund, Mr. Owen Harris</td>\n",
              "      <td>male</td>\n",
              "      <td>22.0</td>\n",
              "      <td>1</td>\n",
              "      <td>0</td>\n",
              "      <td>A/5 21171</td>\n",
              "      <td>7.2500</td>\n",
              "      <td>NaN</td>\n",
              "      <td>S</td>\n",
              "    </tr>\n",
              "    <tr>\n",
              "      <th>1</th>\n",
              "      <td>2</td>\n",
              "      <td>1</td>\n",
              "      <td>1</td>\n",
              "      <td>Cumings, Mrs. John Bradley (Florence Briggs Th...</td>\n",
              "      <td>female</td>\n",
              "      <td>38.0</td>\n",
              "      <td>1</td>\n",
              "      <td>0</td>\n",
              "      <td>PC 17599</td>\n",
              "      <td>71.2833</td>\n",
              "      <td>C85</td>\n",
              "      <td>C</td>\n",
              "    </tr>\n",
              "    <tr>\n",
              "      <th>2</th>\n",
              "      <td>3</td>\n",
              "      <td>1</td>\n",
              "      <td>3</td>\n",
              "      <td>Heikkinen, Miss. Laina</td>\n",
              "      <td>female</td>\n",
              "      <td>26.0</td>\n",
              "      <td>0</td>\n",
              "      <td>0</td>\n",
              "      <td>STON/O2. 3101282</td>\n",
              "      <td>7.9250</td>\n",
              "      <td>NaN</td>\n",
              "      <td>S</td>\n",
              "    </tr>\n",
              "    <tr>\n",
              "      <th>3</th>\n",
              "      <td>4</td>\n",
              "      <td>1</td>\n",
              "      <td>1</td>\n",
              "      <td>Futrelle, Mrs. Jacques Heath (Lily May Peel)</td>\n",
              "      <td>female</td>\n",
              "      <td>35.0</td>\n",
              "      <td>1</td>\n",
              "      <td>0</td>\n",
              "      <td>113803</td>\n",
              "      <td>53.1000</td>\n",
              "      <td>C123</td>\n",
              "      <td>S</td>\n",
              "    </tr>\n",
              "    <tr>\n",
              "      <th>4</th>\n",
              "      <td>5</td>\n",
              "      <td>0</td>\n",
              "      <td>3</td>\n",
              "      <td>Allen, Mr. William Henry</td>\n",
              "      <td>male</td>\n",
              "      <td>35.0</td>\n",
              "      <td>0</td>\n",
              "      <td>0</td>\n",
              "      <td>373450</td>\n",
              "      <td>8.0500</td>\n",
              "      <td>NaN</td>\n",
              "      <td>S</td>\n",
              "    </tr>\n",
              "  </tbody>\n",
              "</table>\n",
              "</div>\n",
              "    <div class=\"colab-df-buttons\">\n",
              "\n",
              "  <div class=\"colab-df-container\">\n",
              "    <button class=\"colab-df-convert\" onclick=\"convertToInteractive('df-35c1600a-f45b-43a8-98e9-f858fbbfaed0')\"\n",
              "            title=\"Convert this dataframe to an interactive table.\"\n",
              "            style=\"display:none;\">\n",
              "\n",
              "  <svg xmlns=\"http://www.w3.org/2000/svg\" height=\"24px\" viewBox=\"0 -960 960 960\">\n",
              "    <path d=\"M120-120v-720h720v720H120Zm60-500h600v-160H180v160Zm220 220h160v-160H400v160Zm0 220h160v-160H400v160ZM180-400h160v-160H180v160Zm440 0h160v-160H620v160ZM180-180h160v-160H180v160Zm440 0h160v-160H620v160Z\"/>\n",
              "  </svg>\n",
              "    </button>\n",
              "\n",
              "  <style>\n",
              "    .colab-df-container {\n",
              "      display:flex;\n",
              "      gap: 12px;\n",
              "    }\n",
              "\n",
              "    .colab-df-convert {\n",
              "      background-color: #E8F0FE;\n",
              "      border: none;\n",
              "      border-radius: 50%;\n",
              "      cursor: pointer;\n",
              "      display: none;\n",
              "      fill: #1967D2;\n",
              "      height: 32px;\n",
              "      padding: 0 0 0 0;\n",
              "      width: 32px;\n",
              "    }\n",
              "\n",
              "    .colab-df-convert:hover {\n",
              "      background-color: #E2EBFA;\n",
              "      box-shadow: 0px 1px 2px rgba(60, 64, 67, 0.3), 0px 1px 3px 1px rgba(60, 64, 67, 0.15);\n",
              "      fill: #174EA6;\n",
              "    }\n",
              "\n",
              "    .colab-df-buttons div {\n",
              "      margin-bottom: 4px;\n",
              "    }\n",
              "\n",
              "    [theme=dark] .colab-df-convert {\n",
              "      background-color: #3B4455;\n",
              "      fill: #D2E3FC;\n",
              "    }\n",
              "\n",
              "    [theme=dark] .colab-df-convert:hover {\n",
              "      background-color: #434B5C;\n",
              "      box-shadow: 0px 1px 3px 1px rgba(0, 0, 0, 0.15);\n",
              "      filter: drop-shadow(0px 1px 2px rgba(0, 0, 0, 0.3));\n",
              "      fill: #FFFFFF;\n",
              "    }\n",
              "  </style>\n",
              "\n",
              "    <script>\n",
              "      const buttonEl =\n",
              "        document.querySelector('#df-35c1600a-f45b-43a8-98e9-f858fbbfaed0 button.colab-df-convert');\n",
              "      buttonEl.style.display =\n",
              "        google.colab.kernel.accessAllowed ? 'block' : 'none';\n",
              "\n",
              "      async function convertToInteractive(key) {\n",
              "        const element = document.querySelector('#df-35c1600a-f45b-43a8-98e9-f858fbbfaed0');\n",
              "        const dataTable =\n",
              "          await google.colab.kernel.invokeFunction('convertToInteractive',\n",
              "                                                    [key], {});\n",
              "        if (!dataTable) return;\n",
              "\n",
              "        const docLinkHtml = 'Like what you see? Visit the ' +\n",
              "          '<a target=\"_blank\" href=https://colab.research.google.com/notebooks/data_table.ipynb>data table notebook</a>'\n",
              "          + ' to learn more about interactive tables.';\n",
              "        element.innerHTML = '';\n",
              "        dataTable['output_type'] = 'display_data';\n",
              "        await google.colab.output.renderOutput(dataTable, element);\n",
              "        const docLink = document.createElement('div');\n",
              "        docLink.innerHTML = docLinkHtml;\n",
              "        element.appendChild(docLink);\n",
              "      }\n",
              "    </script>\n",
              "  </div>\n",
              "\n",
              "\n",
              "<div id=\"df-3de4e96f-9293-4937-a9b7-66d9a1540c7e\">\n",
              "  <button class=\"colab-df-quickchart\" onclick=\"quickchart('df-3de4e96f-9293-4937-a9b7-66d9a1540c7e')\"\n",
              "            title=\"Suggest charts\"\n",
              "            style=\"display:none;\">\n",
              "\n",
              "<svg xmlns=\"http://www.w3.org/2000/svg\" height=\"24px\"viewBox=\"0 0 24 24\"\n",
              "     width=\"24px\">\n",
              "    <g>\n",
              "        <path d=\"M19 3H5c-1.1 0-2 .9-2 2v14c0 1.1.9 2 2 2h14c1.1 0 2-.9 2-2V5c0-1.1-.9-2-2-2zM9 17H7v-7h2v7zm4 0h-2V7h2v10zm4 0h-2v-4h2v4z\"/>\n",
              "    </g>\n",
              "</svg>\n",
              "  </button>\n",
              "\n",
              "<style>\n",
              "  .colab-df-quickchart {\n",
              "      --bg-color: #E8F0FE;\n",
              "      --fill-color: #1967D2;\n",
              "      --hover-bg-color: #E2EBFA;\n",
              "      --hover-fill-color: #174EA6;\n",
              "      --disabled-fill-color: #AAA;\n",
              "      --disabled-bg-color: #DDD;\n",
              "  }\n",
              "\n",
              "  [theme=dark] .colab-df-quickchart {\n",
              "      --bg-color: #3B4455;\n",
              "      --fill-color: #D2E3FC;\n",
              "      --hover-bg-color: #434B5C;\n",
              "      --hover-fill-color: #FFFFFF;\n",
              "      --disabled-bg-color: #3B4455;\n",
              "      --disabled-fill-color: #666;\n",
              "  }\n",
              "\n",
              "  .colab-df-quickchart {\n",
              "    background-color: var(--bg-color);\n",
              "    border: none;\n",
              "    border-radius: 50%;\n",
              "    cursor: pointer;\n",
              "    display: none;\n",
              "    fill: var(--fill-color);\n",
              "    height: 32px;\n",
              "    padding: 0;\n",
              "    width: 32px;\n",
              "  }\n",
              "\n",
              "  .colab-df-quickchart:hover {\n",
              "    background-color: var(--hover-bg-color);\n",
              "    box-shadow: 0 1px 2px rgba(60, 64, 67, 0.3), 0 1px 3px 1px rgba(60, 64, 67, 0.15);\n",
              "    fill: var(--button-hover-fill-color);\n",
              "  }\n",
              "\n",
              "  .colab-df-quickchart-complete:disabled,\n",
              "  .colab-df-quickchart-complete:disabled:hover {\n",
              "    background-color: var(--disabled-bg-color);\n",
              "    fill: var(--disabled-fill-color);\n",
              "    box-shadow: none;\n",
              "  }\n",
              "\n",
              "  .colab-df-spinner {\n",
              "    border: 2px solid var(--fill-color);\n",
              "    border-color: transparent;\n",
              "    border-bottom-color: var(--fill-color);\n",
              "    animation:\n",
              "      spin 1s steps(1) infinite;\n",
              "  }\n",
              "\n",
              "  @keyframes spin {\n",
              "    0% {\n",
              "      border-color: transparent;\n",
              "      border-bottom-color: var(--fill-color);\n",
              "      border-left-color: var(--fill-color);\n",
              "    }\n",
              "    20% {\n",
              "      border-color: transparent;\n",
              "      border-left-color: var(--fill-color);\n",
              "      border-top-color: var(--fill-color);\n",
              "    }\n",
              "    30% {\n",
              "      border-color: transparent;\n",
              "      border-left-color: var(--fill-color);\n",
              "      border-top-color: var(--fill-color);\n",
              "      border-right-color: var(--fill-color);\n",
              "    }\n",
              "    40% {\n",
              "      border-color: transparent;\n",
              "      border-right-color: var(--fill-color);\n",
              "      border-top-color: var(--fill-color);\n",
              "    }\n",
              "    60% {\n",
              "      border-color: transparent;\n",
              "      border-right-color: var(--fill-color);\n",
              "    }\n",
              "    80% {\n",
              "      border-color: transparent;\n",
              "      border-right-color: var(--fill-color);\n",
              "      border-bottom-color: var(--fill-color);\n",
              "    }\n",
              "    90% {\n",
              "      border-color: transparent;\n",
              "      border-bottom-color: var(--fill-color);\n",
              "    }\n",
              "  }\n",
              "</style>\n",
              "\n",
              "  <script>\n",
              "    async function quickchart(key) {\n",
              "      const quickchartButtonEl =\n",
              "        document.querySelector('#' + key + ' button');\n",
              "      quickchartButtonEl.disabled = true;  // To prevent multiple clicks.\n",
              "      quickchartButtonEl.classList.add('colab-df-spinner');\n",
              "      try {\n",
              "        const charts = await google.colab.kernel.invokeFunction(\n",
              "            'suggestCharts', [key], {});\n",
              "      } catch (error) {\n",
              "        console.error('Error during call to suggestCharts:', error);\n",
              "      }\n",
              "      quickchartButtonEl.classList.remove('colab-df-spinner');\n",
              "      quickchartButtonEl.classList.add('colab-df-quickchart-complete');\n",
              "    }\n",
              "    (() => {\n",
              "      let quickchartButtonEl =\n",
              "        document.querySelector('#df-3de4e96f-9293-4937-a9b7-66d9a1540c7e button');\n",
              "      quickchartButtonEl.style.display =\n",
              "        google.colab.kernel.accessAllowed ? 'block' : 'none';\n",
              "    })();\n",
              "  </script>\n",
              "</div>\n",
              "\n",
              "    </div>\n",
              "  </div>\n"
            ],
            "application/vnd.google.colaboratory.intrinsic+json": {
              "type": "dataframe",
              "variable_name": "df",
              "summary": "{\n  \"name\": \"df\",\n  \"rows\": 891,\n  \"fields\": [\n    {\n      \"column\": \"PassengerId\",\n      \"properties\": {\n        \"dtype\": \"number\",\n        \"std\": 257,\n        \"min\": 1,\n        \"max\": 891,\n        \"num_unique_values\": 891,\n        \"samples\": [\n          710,\n          440,\n          841\n        ],\n        \"semantic_type\": \"\",\n        \"description\": \"\"\n      }\n    },\n    {\n      \"column\": \"Survived\",\n      \"properties\": {\n        \"dtype\": \"number\",\n        \"std\": 0,\n        \"min\": 0,\n        \"max\": 1,\n        \"num_unique_values\": 2,\n        \"samples\": [\n          1,\n          0\n        ],\n        \"semantic_type\": \"\",\n        \"description\": \"\"\n      }\n    },\n    {\n      \"column\": \"Pclass\",\n      \"properties\": {\n        \"dtype\": \"number\",\n        \"std\": 0,\n        \"min\": 1,\n        \"max\": 3,\n        \"num_unique_values\": 3,\n        \"samples\": [\n          3,\n          1\n        ],\n        \"semantic_type\": \"\",\n        \"description\": \"\"\n      }\n    },\n    {\n      \"column\": \"Name\",\n      \"properties\": {\n        \"dtype\": \"string\",\n        \"num_unique_values\": 891,\n        \"samples\": [\n          \"Moubarek, Master. Halim Gonios (\\\"William George\\\")\",\n          \"Kvillner, Mr. Johan Henrik Johannesson\"\n        ],\n        \"semantic_type\": \"\",\n        \"description\": \"\"\n      }\n    },\n    {\n      \"column\": \"Sex\",\n      \"properties\": {\n        \"dtype\": \"category\",\n        \"num_unique_values\": 2,\n        \"samples\": [\n          \"female\",\n          \"male\"\n        ],\n        \"semantic_type\": \"\",\n        \"description\": \"\"\n      }\n    },\n    {\n      \"column\": \"Age\",\n      \"properties\": {\n        \"dtype\": \"number\",\n        \"std\": 14.526497332334044,\n        \"min\": 0.42,\n        \"max\": 80.0,\n        \"num_unique_values\": 88,\n        \"samples\": [\n          0.75,\n          22.0\n        ],\n        \"semantic_type\": \"\",\n        \"description\": \"\"\n      }\n    },\n    {\n      \"column\": \"SibSp\",\n      \"properties\": {\n        \"dtype\": \"number\",\n        \"std\": 1,\n        \"min\": 0,\n        \"max\": 8,\n        \"num_unique_values\": 7,\n        \"samples\": [\n          1,\n          0\n        ],\n        \"semantic_type\": \"\",\n        \"description\": \"\"\n      }\n    },\n    {\n      \"column\": \"Parch\",\n      \"properties\": {\n        \"dtype\": \"number\",\n        \"std\": 0,\n        \"min\": 0,\n        \"max\": 6,\n        \"num_unique_values\": 7,\n        \"samples\": [\n          0,\n          1\n        ],\n        \"semantic_type\": \"\",\n        \"description\": \"\"\n      }\n    },\n    {\n      \"column\": \"Ticket\",\n      \"properties\": {\n        \"dtype\": \"string\",\n        \"num_unique_values\": 681,\n        \"samples\": [\n          \"11774\",\n          \"248740\"\n        ],\n        \"semantic_type\": \"\",\n        \"description\": \"\"\n      }\n    },\n    {\n      \"column\": \"Fare\",\n      \"properties\": {\n        \"dtype\": \"number\",\n        \"std\": 49.693428597180905,\n        \"min\": 0.0,\n        \"max\": 512.3292,\n        \"num_unique_values\": 248,\n        \"samples\": [\n          11.2417,\n          51.8625\n        ],\n        \"semantic_type\": \"\",\n        \"description\": \"\"\n      }\n    },\n    {\n      \"column\": \"Cabin\",\n      \"properties\": {\n        \"dtype\": \"category\",\n        \"num_unique_values\": 147,\n        \"samples\": [\n          \"D45\",\n          \"B49\"\n        ],\n        \"semantic_type\": \"\",\n        \"description\": \"\"\n      }\n    },\n    {\n      \"column\": \"Embarked\",\n      \"properties\": {\n        \"dtype\": \"category\",\n        \"num_unique_values\": 3,\n        \"samples\": [\n          \"S\",\n          \"C\"\n        ],\n        \"semantic_type\": \"\",\n        \"description\": \"\"\n      }\n    }\n  ]\n}"
            }
          },
          "metadata": {},
          "execution_count": 3
        }
      ]
    },
    {
      "cell_type": "markdown",
      "source": [
        "Al ejecutar df.info() y df.head() en el conjunto de datos del Titanic, se obtiene una visión general inicial esencial de la estructura y contenido del dataset.\n",
        "\n",
        "df.info() revela la cantidad de pasajeros, las columnas con sus tipos de datos y posibles valores faltantes. Esto es crucial para la planificación de la limpieza y preprocesamiento de datos, identificando áreas que requieren atención especial.\n",
        "\n",
        "Por otro lado, df.head() permite visualizar las primeras filas de datos, proporcionando una comprensión tangible de cómo se organiza la información y los valores que contiene cada columna. Esto ayuda a familiarizarse con el dataset y detectar patrones o anomalías a simple vista.\n",
        "\n",
        "En resumen, la combinación de df.info() y df.head() provee una base sólida para el análisis exploratorio de datos, permitiendo al usuario comprender la naturaleza del conjunto de datos del Titanic antes de profundizar en análisis más complejos. Esta información es clave para la toma de decisiones informadas en etapas posteriores del análisis.\n",
        "\n",
        "Espero que esta conclusión sea útil. Si necesitas profundizar en algún aspecto en particular, no dudes en preguntarme."
      ],
      "metadata": {
        "id": "jOvJgFcSAkLY"
      }
    },
    {
      "cell_type": "code",
      "source": [
        "# Cantidad de registros y columnas\n",
        "print(f\"Cantidad de registros: {df.shape[0]}\")\n",
        "print(f\"Cantidad de columnas: {df.shape[1]}\")"
      ],
      "metadata": {
        "colab": {
          "base_uri": "https://localhost:8080/"
        },
        "id": "bM8adLmJHTp1",
        "outputId": "8bbef942-0dd8-4204-85a0-efacd2df71dc"
      },
      "execution_count": null,
      "outputs": [
        {
          "output_type": "stream",
          "name": "stdout",
          "text": [
            "Cantidad de registros: 891\n",
            "Cantidad de columnas: 12\n"
          ]
        }
      ]
    },
    {
      "cell_type": "markdown",
      "source": [
        "| Atributo | Tipo de dato | Cualitativo/Cuantitativo | Nominal/Ordinal | Numérico/Continuo | Codificado |\n",
        "|---|---|---|---|---|---|\n",
        "| PassengerId | Cuantitativo | Discreto | Numérico | No |\n",
        "| Survived | Cualitativo | Nominal | Numérico | Sí (0/1) |\n",
        "| Pclass | Cualitativo | Ordinal | Numérico | Sí (1/2/3) |\n",
        "| Name | Cualitativo | Nominal | Texto | No |\n",
        "| Sex | Cualitativo | Nominal | Texto | No |\n",
        "| Age | Cuantitativo | Continuo | Numérico | No |\n",
        "| SibSp | Cuantitativo | Discreto | Numérico | No |\n",
        "| Parch | Cuantitativo | Discreto | Numérico | No |\n",
        "| Ticket | Cualitativo | Nominal | Alfanumérico | No |\n",
        "| Fare | Cuantitativo | Continuo | Numérico | No |\n",
        "| Cabin | Cualitativo | Nominal | Alfanumérico | No |\n",
        "| Embarked | Cualitativo | Nominal | Texto | Sí (C/Q/S) |"
      ],
      "metadata": {
        "id": "7sbJnHzn4KTL"
      }
    },
    {
      "cell_type": "markdown",
      "source": [
        "te brinda una visión completa de las características de cada atributo, permitiéndote abordar el análisis del dataset Titanic de forma más informada y eficiente.\n",
        "\n",
        "Esta información es esencial para realizar análisis exploratorios de datos, construir modelos predictivos y extraer conclusiones significativas a partir de la información del Titanic."
      ],
      "metadata": {
        "id": "uKNpEPaQ5ima"
      }
    },
    {
      "cell_type": "code",
      "source": [
        "# Cantidad de valores únicos por atributo\n",
        "print(df.nunique())"
      ],
      "metadata": {
        "colab": {
          "base_uri": "https://localhost:8080/"
        },
        "id": "O5e9FWRlHYyJ",
        "outputId": "6464334a-cd3d-41bd-95ad-a8d20c1f3a28"
      },
      "execution_count": null,
      "outputs": [
        {
          "output_type": "stream",
          "name": "stdout",
          "text": [
            "PassengerId    891\n",
            "Survived         2\n",
            "Pclass           3\n",
            "Name           891\n",
            "Sex              2\n",
            "Age             88\n",
            "SibSp            7\n",
            "Parch            7\n",
            "Ticket         681\n",
            "Fare           248\n",
            "Cabin          147\n",
            "Embarked         3\n",
            "dtype: int64\n"
          ]
        }
      ]
    },
    {
      "cell_type": "markdown",
      "source": [
        "El análisis de la cantidad de valores únicos por atributo en el dataset del Titanic nos proporciona información valiosa sobre la naturaleza de los datos y la variabilidad de cada columna. Esto es fundamental para realizar análisis exploratorios de datos, identificar patrones, comprender las relaciones entre las variables y, en última instancia, extraer conclusiones significativas sobre los factores que influyeron en la supervivencia de los pasajeros del Titanic."
      ],
      "metadata": {
        "id": "msm0wngXFks-"
      }
    },
    {
      "cell_type": "code",
      "source": [
        "# Valores únicos por atributo\n",
        "for column in df.columns:\n",
        "    print(f\"{column}: {df[column].unique()[:10]}\")  # Mostrar solo los primeros 10 valores únicos"
      ],
      "metadata": {
        "colab": {
          "base_uri": "https://localhost:8080/"
        },
        "id": "jOZzgpk0HdQG",
        "outputId": "58d61844-392f-4b19-8ace-273eeaccd36e"
      },
      "execution_count": null,
      "outputs": [
        {
          "output_type": "stream",
          "name": "stdout",
          "text": [
            "PassengerId: [ 1  2  3  4  5  6  7  8  9 10]\n",
            "Survived: [0 1]\n",
            "Pclass: [3 1 2]\n",
            "Name: ['Braund, Mr. Owen Harris'\n",
            " 'Cumings, Mrs. John Bradley (Florence Briggs Thayer)'\n",
            " 'Heikkinen, Miss. Laina' 'Futrelle, Mrs. Jacques Heath (Lily May Peel)'\n",
            " 'Allen, Mr. William Henry' 'Moran, Mr. James' 'McCarthy, Mr. Timothy J'\n",
            " 'Palsson, Master. Gosta Leonard'\n",
            " 'Johnson, Mrs. Oscar W (Elisabeth Vilhelmina Berg)'\n",
            " 'Nasser, Mrs. Nicholas (Adele Achem)']\n",
            "Sex: ['male' 'female']\n",
            "Age: [22. 38. 26. 35. nan 54.  2. 27. 14.  4.]\n",
            "SibSp: [1 0 3 4 2 5 8]\n",
            "Parch: [0 1 2 5 3 4 6]\n",
            "Ticket: ['A/5 21171' 'PC 17599' 'STON/O2. 3101282' '113803' '373450' '330877'\n",
            " '17463' '349909' '347742' '237736']\n",
            "Fare: [ 7.25   71.2833  7.925  53.1     8.05    8.4583 51.8625 21.075  11.1333\n",
            " 30.0708]\n",
            "Cabin: [nan 'C85' 'C123' 'E46' 'G6' 'C103' 'D56' 'A6' 'C23 C25 C27' 'B78']\n",
            "Embarked: ['S' 'C' 'Q' nan]\n"
          ]
        }
      ]
    },
    {
      "cell_type": "markdown",
      "source": [
        "Este código es una herramienta útil en la etapa de análisis exploratorio de datos. Proporciona una visión general de los valores presentes en cada columna del dataset del Titanic, lo cual facilita la comprensión de la estructura y el contenido de los datos. Esto es fundamental para la toma de decisiones en las siguientes etapas del análisis, como la limpieza, preprocesamiento y modelado de datos."
      ],
      "metadata": {
        "id": "ZxosndsEFxx3"
      }
    },
    {
      "cell_type": "code",
      "source": [
        "# Contar valores nulos\n",
        "total_nulls = df.isnull().sum()\n",
        "print(\"Valores nulos por columna:\")\n",
        "print(total_nulls)"
      ],
      "metadata": {
        "colab": {
          "base_uri": "https://localhost:8080/"
        },
        "id": "b169SBEcHgQn",
        "outputId": "e747ccd1-66ca-4aa7-c50e-b2e2c0cd7712"
      },
      "execution_count": null,
      "outputs": [
        {
          "output_type": "stream",
          "name": "stdout",
          "text": [
            "Valores nulos por columna:\n",
            "PassengerId      0\n",
            "Survived         0\n",
            "Pclass           0\n",
            "Name             0\n",
            "Sex              0\n",
            "Age            177\n",
            "SibSp            0\n",
            "Parch            0\n",
            "Ticket           0\n",
            "Fare             0\n",
            "Cabin          687\n",
            "Embarked         2\n",
            "dtype: int64\n"
          ]
        }
      ]
    },
    {
      "cell_type": "markdown",
      "source": [
        "La salida muestra el nombre de cada columna del DataFrame df seguido de la cantidad de valores nulos que contiene.\n",
        "En este ejemplo, podemos observar que la columna 'Age' tiene 177 valores nulos, 'Cabin' tiene 687 valores nulos y 'Embarked' tiene 2 valores nulos. Las demás columnas no tienen valores nulos."
      ],
      "metadata": {
        "id": "XpMtJN3ZF_MQ"
      }
    },
    {
      "cell_type": "markdown",
      "source": [
        "| Atributo | Tipo de dato | Cualitativo/Cuantitativo | Nominal/Ordinal | Numérico/Continuo | Codificado | Interpretación de Origen |\n",
        "|---|---|---|---|---|---|---|\n",
        "| PassengerId | int64 | Cuantitativo | Numérico | Discreto | No | Identificador único asignado a cada pasajero |\n",
        "| Survived | int64 | Cualitativo | Nominal | Discreto | Sí (0/1) | Indica si el pasajero sobrevivió (1) o no (0) |\n",
        "| Pclass | int64 | Cualitativo | Ordinal | Discreto | Sí (1/2/3) | Clase del pasajero (1ra, 2da o 3ra) |\n",
        "| Name | object | Cualitativo | Nominal | - | No | Nombre del pasajero |\n",
        "| Sex | object | Cualitativo | Nominal | - | No | Género del pasajero (masculino o femenino) |\n",
        "| Age | float64 | Cuantitativo | Numérico | Continuo | No | Edad del pasajero en años |\n",
        "| SibSp | int64 | Cuantitativo | Numérico | Discreto | No | Número de hermanos/as o cónyuges a bordo |\n",
        "| Parch | int64 | Cuantitativo | Numérico | Discreto | No | Número de padres/madres o hijos/as a bordo |\n",
        "| Ticket | object | Cualitativo | Nominal | - | No | Número de ticket del pasajero |\n",
        "| Fare | float64 | Cuantitativo | Numérico | Continuo | No | Tarifa pagada por el pasajero |\n",
        "| Cabin | object | Cualitativo | Nominal | - | No | Número de cabina del pasajero |\n",
        "| Embarked | object | Cualitativo | Nominal | Discreto | Sí (C/Q/S) | Puerto de embarque (C = Cherbourg, Q = Queenstown, S = Southampton) |\n"
      ],
      "metadata": {
        "id": "kH5hBRTC5tiR"
      }
    },
    {
      "cell_type": "markdown",
      "source": [
        "La tabla proporciona una descripción detallada de los atributos del conjunto de datos del Titanic. Esta información es fundamental para comprender la estructura y el contenido del dataset, lo que permite realizar análisis exploratorios de datos, construir modelos predictivos y extraer conclusiones significativas sobre los factores que influyeron en la supervivencia de los pasajeros del Titanic."
      ],
      "metadata": {
        "id": "zPMf7NRjBidR"
      }
    },
    {
      "cell_type": "markdown",
      "source": [
        "| Atributo | Cantidad de Registros | Cantidad de Valores Únicos | Cantidad de Nulos |\n",
        "|---|---|---|---|\n",
        "| PassengerId | 891 | 891 | 0 |\n",
        "| Survived | 891 | 2 | 0 |\n",
        "| Pclass | 891 | 3 | 0 |\n",
        "| Name | 891 | 891 | 0 |\n",
        "| Sex | 891 | 2 | 0 |\n",
        "| Age | 891 | 88 | 177 |\n",
        "| SibSp | 891 | 7 | 0 |\n",
        "| Parch | 891 | 7 | 0 |\n",
        "| Ticket | 891 | 681 | 0 |\n",
        "| Fare | 891 | 248 | 0 |\n",
        "| Cabin | 891 | 147 | 687 |\n",
        "| Embarked | 891 | 3 | 2 |"
      ],
      "metadata": {
        "id": "kBVYakoU68vj"
      }
    },
    {
      "cell_type": "markdown",
      "source": [
        "Registros: Hay 891 registros en total, que representan a cada pasajero.\n",
        "\n",
        "Valores Únicos: Algunos atributos como 'PassengerId' y 'Name' tienen 891 valores únicos, lo que significa que son identificadores individuales. Otros como 'Survived' y 'Sex' tienen pocos valores únicos, indicando que son categóricos.\n",
        "\n",
        "Nulos: 'Age' y 'Cabin' tienen una cantidad significativa de valores nulos (177 y 687, respectivamente). 'Embarked' tiene solo 2 nulos. Esto es importante para la limpieza y preprocesamiento de datos."
      ],
      "metadata": {
        "id": "VWmCHKZz7A7K"
      }
    },
    {
      "cell_type": "code",
      "source": [
        "# Gráficos de distribución de algunas variables relevantes\n",
        "plt.figure(figsize=(10, 5))\n",
        "sns.histplot(df['Age'].dropna(), bins=30, kde=True)\n",
        "plt.title(\"Distribución de Edades\")\n",
        "plt.xlabel(\"Edad\")\n",
        "plt.ylabel(\"Frecuencia\")\n",
        "plt.show()\n",
        "\n",
        "plt.figure(figsize=(10, 5))\n",
        "sns.countplot(x='Pclass', data=df)\n",
        "plt.title(\"Distribución por Clase\")\n",
        "plt.xlabel(\"Clase del Pasajero\")\n",
        "plt.ylabel(\"Cantidad\")\n",
        "plt.show()"
      ],
      "metadata": {
        "colab": {
          "base_uri": "https://localhost:8080/",
          "height": 731
        },
        "id": "IaES40reHi--",
        "outputId": "00c34b58-757c-4532-bcea-fcd0a2c02aab"
      },
      "execution_count": null,
      "outputs": [
        {
          "output_type": "display_data",
          "data": {
            "text/plain": [
              "<Figure size 1000x500 with 1 Axes>"
            ],
            "image/png": "[encoded data removed]"
          },
          "metadata": {}
        },
        {
          "output_type": "display_data",
          "data": {
            "text/plain": [
              "<Figure size 1000x500 with 1 Axes>"
            ],
            "image/png": "[encoded data removed]"
          },
          "metadata": {}
        }
      ]
    },
    {
      "cell_type": "markdown",
      "source": [
        "Tabla 1: Distribución de Edades (Histograma)\n",
        "\n",
        "Muestra la frecuencia de las edades de los pasajeros, revelando la distribución de edades a bordo del Titanic.\n",
        "Se puede observar la edad promedio, la dispersión de los datos, si hay grupos de edad predominantes o valores atípicos.\n",
        "Permite identificar la concentración de pasajeros en ciertos rangos de edad.\n",
        "\n",
        "Tabla 2: Distribución por Clase (Gráfico de barras)\n",
        "\n",
        "Indica la cantidad de pasajeros que viajaban en cada clase (1ra, 2da y 3ra).\n",
        "Permite comparar la proporción de pasajeros en cada clase.\n",
        "Da una idea de la distribución socioeconómica de los pasajeros, ya que la clase del billete suele estar relacionada con el nivel económico."
      ],
      "metadata": {
        "id": "bFmNP-b-8qgp"
      }
    },
    {
      "cell_type": "code",
      "source": [
        "# Tasas de supervivencia globales y segmentadas\n",
        "survival_rate = df['Survived'].mean()\n",
        "print(f\"Tasa de supervivencia general: {survival_rate:.2%}\")"
      ],
      "metadata": {
        "colab": {
          "base_uri": "https://localhost:8080/"
        },
        "id": "s2--OwOdHoZN",
        "outputId": "4c085d1b-deb3-482a-d772-2a3c2fe62a0a"
      },
      "execution_count": null,
      "outputs": [
        {
          "output_type": "stream",
          "name": "stdout",
          "text": [
            "Tasa de supervivencia general: 38.38%\n"
          ]
        }
      ]
    },
    {
      "cell_type": "markdown",
      "source": [
        "El código nos revela una verdad: solo el 38% de los pasajeros del Titanic lograron sobrevivir a la tragedia."
      ],
      "metadata": {
        "id": "K5E0a5CD9p8F"
      }
    },
    {
      "source": [
        "# Supervivencia por género\n",
        "survival_by_gender = df.groupby('Sex')['Survived'].mean()\n",
        "print(\"Supervivencia por género:\")\n",
        "print(survival_by_gender * 100)  # Multiplicar por 100 para obtener el porcentaje"
      ],
      "cell_type": "code",
      "metadata": {
        "id": "5-D2PQ7Ay5Pr",
        "outputId": "3ef659e5-6c93-4e3f-a3d7-01674b5f53fd",
        "colab": {
          "base_uri": "https://localhost:8080/"
        }
      },
      "execution_count": 4,
      "outputs": [
        {
          "output_type": "stream",
          "name": "stdout",
          "text": [
            "Supervivencia por género:\n",
            "Sex\n",
            "female    74.203822\n",
            "male      18.890815\n",
            "Name: Survived, dtype: float64\n"
          ]
        }
      ]
    },
    {
      "cell_type": "markdown",
      "source": [
        "Esta salida muestra que las mujeres tuvieron una tasa de supervivencia significativamente mayor (alrededor del 74%) en comparación con los hombres (alrededor del 19%) en el Titanic. Esto sugiere que el género jugó un papel importante en la determinación de las posibilidades de supervivencia durante el desastre. Este hallazgo es consistente con los relatos históricos, que indican que se dio prioridad a las mujeres y los niños durante la evacuación."
      ],
      "metadata": {
        "id": "oxiU23_N-qfE"
      }
    },
    {
      "source": [
        "# Supervivencia por clase\n",
        "survival_by_class = df.groupby('Pclass')['Survived'].mean()\n",
        "print(\"Supervivencia por clase:\")\n",
        "print(survival_by_class * 100)  # Multiplicar por 100 para obtener el porcentaje"
      ],
      "cell_type": "code",
      "metadata": {
        "id": "h3wdwPw5zoVo",
        "outputId": "d76bbfac-a650-4264-8275-90e1bd006419",
        "colab": {
          "base_uri": "https://localhost:8080/"
        }
      },
      "execution_count": 5,
      "outputs": [
        {
          "output_type": "stream",
          "name": "stdout",
          "text": [
            "Supervivencia por clase:\n",
            "Pclass\n",
            "1    62.962963\n",
            "2    47.282609\n",
            "3    24.236253\n",
            "Name: Survived, dtype: float64\n"
          ]
        }
      ]
    },
    {
      "cell_type": "markdown",
      "source": [
        "Esta salida muestra que los pasajeros de primera clase tuvieron una tasa de supervivencia significativamente mayor (alrededor del 63%), seguidos por los de segunda clase (alrededor del 47%), y finalmente los de tercera clase (alrededor del 24%)."
      ],
      "metadata": {
        "id": "WoM1gub5-8wF"
      }
    },
    {
      "cell_type": "code",
      "source": [
        "duplicates = df[df.duplicated()]\n",
        "print(f\"Número de registros duplicados: {duplicates.shape[0]}\")"
      ],
      "metadata": {
        "id": "sMr4wWD9HC3H",
        "outputId": "363c2b13-5fa8-40e4-bd4e-5264d76b94fc",
        "colab": {
          "base_uri": "https://localhost:8080/"
        }
      },
      "execution_count": null,
      "outputs": [
        {
          "output_type": "stream",
          "name": "stdout",
          "text": [
            "Número de registros duplicados: 0\n"
          ]
        }
      ]
    },
    {
      "cell_type": "markdown",
      "source": [
        "La evaluación y el manejo de registros duplicados son pasos cruciales en el proceso de análisis de datos. En el contexto del conjunto de datos del Titanic, la identificación y eliminación de duplicados garantiza la integridad de los datos y la precisión del análisis. Si bien el conjunto de datos del Titanic utilizado en este caso no contenía duplicados, es una buena práctica realizar siempre esta verificación para evitar posibles sesgos o resultados inexactos. La aplicación del método drop_duplicates() proporciona una solución eficiente para eliminar duplicados, asegurando que cada registro sea único y representativo de un pasajero individual. Este proceso contribuye a un análisis más confiable y a la construcción de modelos predictivos más robustos. En resumen, la atención a los detalles, como la detección y eliminación de registros duplicados, es fundamental para obtener información significativa y precisa a partir de los datos del Titanic"
      ],
      "metadata": {
        "id": "N2ZgjtY_IzWR"
      }
    },
    {
      "cell_type": "code",
      "source": [
        "\n",
        "# Imputación de la edad en función de la clase y el género\n",
        "# Agrupar por clase y género, y calcular la mediana de la edad para cada grupo\n",
        "age_median = df.groupby(['Pclass', 'Sex'])['Age'].median()\n",
        "\n",
        "# Crear una función para imputar la edad\n",
        "def imputar_edad(cols):\n",
        "    Age = cols[0]\n",
        "    Pclass = cols[1]\n",
        "    Sex = cols[2]\n",
        "    if pd.isnull(Age):\n",
        "        return age_median[Pclass][Sex]\n",
        "    else:\n",
        "        return Age\n",
        "\n",
        "# Aplicar la función para imputar las edades faltantes\n",
        "df['Age'] = df[['Age', 'Pclass', 'Sex']].apply(imputar_edad, axis=1)\n",
        "\n",
        "# Eliminar la columna 'Cabin' debido al alto porcentaje de valores faltantes y su poca relevancia\n",
        "df = df.drop('Cabin', axis=1)\n",
        "\n",
        "# Eliminar los registros con valores faltantes en 'Embarked'\n",
        "df = df.dropna()\n",
        "\n",
        "# Verificar si aún hay valores nulos\n",
        "print(df.isnull().sum())\n"
      ],
      "metadata": {
        "id": "2ZxJmSu9I2YC",
        "outputId": "51394c8d-e530-4fc2-b68f-dc49c712e482",
        "colab": {
          "base_uri": "https://localhost:8080/"
        }
      },
      "execution_count": null,
      "outputs": [
        {
          "output_type": "stream",
          "name": "stdout",
          "text": [
            "PassengerId    0\n",
            "Survived       0\n",
            "Pclass         0\n",
            "Name           0\n",
            "Sex            0\n",
            "Age            0\n",
            "SibSp          0\n",
            "Parch          0\n",
            "Ticket         0\n",
            "Fare           0\n",
            "Embarked       0\n",
            "dtype: int64\n"
          ]
        },
        {
          "output_type": "stream",
          "name": "stderr",
          "text": [
            "<ipython-input-13-e3dbb9325954>:7: FutureWarning: Series.__getitem__ treating keys as positions is deprecated. In a future version, integer keys will always be treated as labels (consistent with DataFrame behavior). To access a value by position, use `ser.iloc[pos]`\n",
            "  Age = cols[0]\n",
            "<ipython-input-13-e3dbb9325954>:8: FutureWarning: Series.__getitem__ treating keys as positions is deprecated. In a future version, integer keys will always be treated as labels (consistent with DataFrame behavior). To access a value by position, use `ser.iloc[pos]`\n",
            "  Pclass = cols[1]\n",
            "<ipython-input-13-e3dbb9325954>:9: FutureWarning: Series.__getitem__ treating keys as positions is deprecated. In a future version, integer keys will always be treated as labels (consistent with DataFrame behavior). To access a value by position, use `ser.iloc[pos]`\n",
            "  Sex = cols[2]\n"
          ]
        }
      ]
    },
    {
      "cell_type": "markdown",
      "source": [
        "Este código realiza un preprocesamiento importante del conjunto de datos del Titanic al manejar los valores faltantes. La imputación de la edad utilizando la mediana basada en la clase y el género es una estrategia inteligente para rellenar los valores faltantes de una manera más informada, evitando sesgos. La eliminación de la columna Cabin y las filas con valores faltantes en Embarked también son decisiones justificadas para mejorar la calidad del conjunto de datos para el análisis posterior.\n",
        "\n",
        "En general, este código proporciona un enfoque sólido para el manejo de valores faltantes en el conjunto de datos del Titanic, mejorando la integridad y confiabilidad de los datos para el análisis.\n",
        "\n",
        "Espero que esta explicación sea útil. Avísame si tienes alguna otra pregunta."
      ],
      "metadata": {
        "id": "p7lRMZdFJlYx"
      }
    },
    {
      "source": [
        "import seaborn as sns\n",
        "import matplotlib.pyplot as plt\n",
        "\n",
        "# Box plot para 'Age'\n",
        "sns.boxplot(x=df['Age'])\n",
        "plt.title(\"Distribución de la Edad de los Pasajeros\") # Título añadido\n",
        "plt.show()\n",
        "\n",
        "# Histograma para 'Fare'\n",
        "plt.hist(df['Fare'], bins=30)\n",
        "plt.title(\"Distribución de las Tarifas de los Pasajeros\") # Título añadido\n",
        "plt.xlabel(\"Tarifa\") # Etiqueta del eje x añadida\n",
        "plt.ylabel(\"Frecuencia\") # Etiqueta del eje y añadida\n",
        "plt.show()"
      ],
      "cell_type": "code",
      "metadata": {
        "id": "QevudcXn69J_",
        "outputId": "94d97a3a-65f3-4235-ed77-13bfebf19373",
        "colab": {
          "base_uri": "https://localhost:8080/",
          "height": 927
        }
      },
      "execution_count": 12,
      "outputs": [
        {
          "output_type": "display_data",
          "data": {
            "text/plain": [
              "<Figure size 640x480 with 1 Axes>"
            ],
            "image/png": "[encoded data removed]"
          },
          "metadata": {}
        },
        {
          "output_type": "display_data",
          "data": {
            "text/plain": [
              "<Figure size 640x480 with 1 Axes>"
            ],
            "image/png": "[encoded data removed]"
          },
          "metadata": {}
        }
      ]
    },
    {
      "cell_type": "markdown",
      "source": [
        "El box plot de la edad muestra la distribucion de la edad de los pasajeros del Titanic, ademas mustra el rango intercuartil, dosnde se encuntra el 50% central de los datos.\n",
        "\n",
        "El histograma de fare mustra la distribicion de las tarifas pagadas por los pasajeros, esto nos permite observar la forma de la distribucion"
      ],
      "metadata": {
        "id": "z-H5s3Z77CF_"
      }
    },
    {
      "source": [
        "Q1 = df['Age'].quantile(0.25)\n",
        "Q3 = df['Age'].quantile(0.75)\n",
        "IQR = Q3 - Q1\n",
        "outliers = df[(df['Age'] < (Q1 - 1.5 * IQR)) | (df['Age'] > (Q3 + 1.5 * IQR))]\n",
        "\n",
        "print(\"Valores atípicos (outliers) en 'Age':\\n\", outliers)"
      ],
      "cell_type": "code",
      "metadata": {
        "id": "5rufctn82Da-",
        "outputId": "a990c5e4-480b-4ca6-8dd1-fbd8e196c421",
        "colab": {
          "base_uri": "https://localhost:8080/"
        }
      },
      "execution_count": 11,
      "outputs": [
        {
          "output_type": "stream",
          "name": "stdout",
          "text": [
            "Valores atípicos (outliers) en 'Age':\n",
            "      Survived  Pclass                                  Name   Sex   Age  \\\n",
            "33          0       2                 Wheadon, Mr. Edward H  male  66.0   \n",
            "54          0       1        Ostby, Mr. Engelhart Cornelius  male  65.0   \n",
            "96          0       1             Goldschmidt, Mr. George B  male  71.0   \n",
            "116         0       3                  Connors, Mr. Patrick  male  70.5   \n",
            "280         0       3                      Duane, Mr. Frank  male  65.0   \n",
            "456         0       1             Millet, Mr. Francis Davis  male  65.0   \n",
            "493         0       1               Artagaveytia, Mr. Ramon  male  71.0   \n",
            "630         1       1  Barkworth, Mr. Algernon Henry Wilson  male  80.0   \n",
            "672         0       2           Mitchell, Mr. Henry Michael  male  70.0   \n",
            "745         0       1          Crosby, Capt. Edward Gifford  male  70.0   \n",
            "851         0       3                   Svensson, Mr. Johan  male  74.0   \n",
            "\n",
            "     SibSp  Parch     Fare Cabin Embarked  \n",
            "33       0      0  10.5000   NaN        S  \n",
            "54       0      1  61.9792   B30        C  \n",
            "96       0      0  34.6542    A5        C  \n",
            "116      0      0   7.7500   NaN        Q  \n",
            "280      0      0   7.7500   NaN        Q  \n",
            "456      0      0  26.5500   E38        S  \n",
            "493      0      0  49.5042   NaN        C  \n",
            "630      0      0  30.0000   A23        S  \n",
            "672      0      0  10.5000   NaN        S  \n",
            "745      1      1  71.0000   B22        S  \n",
            "851      0      0   7.7750   NaN        S  \n"
          ]
        }
      ]
    },
    {
      "cell_type": "markdown",
      "source": [
        "muestra las edades que superan los 65 años, es para identificar que habia un grupo pequeño de edades avanzadas"
      ],
      "metadata": {
        "id": "YAYMs7Bw2MA-"
      }
    },
    {
      "source": [
        "# Select only numerical features for correlation\n",
        "numerical_features = df.select_dtypes(include=['number'])\n",
        "\n",
        "\n",
        "correlation = numerical_features.corr()['Survived']\n",
        "\n",
        "print(correlation)\n"
      ],
      "cell_type": "code",
      "metadata": {
        "id": "rTGB0k3UJ9Wq",
        "outputId": "ed0ba895-fb64-448c-956d-d2c0bef4e36b",
        "colab": {
          "base_uri": "https://localhost:8080/"
        }
      },
      "execution_count": 7,
      "outputs": [
        {
          "output_type": "stream",
          "name": "stdout",
          "text": [
            "PassengerId   -0.005007\n",
            "Survived       1.000000\n",
            "Pclass        -0.338481\n",
            "Age           -0.077221\n",
            "SibSp         -0.035322\n",
            "Parch          0.081629\n",
            "Fare           0.257307\n",
            "Name: Survived, dtype: float64\n"
          ]
        }
      ]
    },
    {
      "cell_type": "markdown",
      "source": [
        "Identificar las relaciones entre variables. Nos permite comprender que factores tuvieron mayor influencia en la supervivencia"
      ],
      "metadata": {
        "id": "xhxLJ0M325ev"
      }
    },
    {
      "cell_type": "markdown",
      "source": [
        "| Columna | Moda | Mediana | Media | Análisis |\n",
        "|---|---|---|---|---|\n",
        "| PassengerId | No aplica (ID único) | 446 | 446 | La media y la mediana coinciden, lo que indica una distribución simétrica (aunque no sea relevante para un ID). |\n",
        "| Survived | 0 | 0 | 0.38 | La moda y la mediana son 0, lo que indica que más pasajeros murieron que sobrevivieron. La media de 0.38 indica una tasa de supervivencia del 38%. |\n",
        "| Pclass | 3 | 3 | 2.31 | La moda y la mediana son 3, lo que indica que la mayoría de los pasajeros viajaban en tercera clase. La media de 2.31 confirma esta tendencia. |\n",
        "| Age | 24 | 28 | 29.7 | La edad promedio de los pasajeros era de 29.7 años. La mediana es ligeramente menor, lo que sugiere una ligera asimetría hacia la derecha en la distribución de edades.  |\n",
        "| SibSp | 0 | 0 | 0.52 | La mayoría de los pasajeros viajaban sin hermanos ni cónyuges. La media de 0.52 indica que, en promedio, los pasajeros tenían menos de un hermano o cónyuge a bordo. |\n",
        "| Parch | 0 | 0 | 0.38 | La mayoría de los pasajeros viajaban sin padres ni hijos. La media de 0.38 indica que, en promedio, los pasajeros tenían menos de un padre o hijo a bordo. |\n",
        "| Fare | 8.05 | 14.45 | 32.2 | La tarifa promedio era de 32.2. La mediana es considerablemente menor, lo que indica una fuerte asimetría hacia la derecha en la distribución de tarifas, con algunos pasajeros pagando tarifas mucho más altas. |"
      ],
      "metadata": {
        "id": "A9_PcRks_Ltv"
      }
    },
    {
      "cell_type": "markdown",
      "source": [
        "la tabla proporciona información sobre la distribución de las variables en el dataset del Titanic. Las medidas de tendencia central y el análisis de cada columna nos permiten comprender las características generales de los pasajeros, como la tasa de supervivencia, la clase social, la edad, la composición familiar y la tarifa pagada."
      ],
      "metadata": {
        "id": "AVf4cJkf_7wE"
      }
    }
  ]
}